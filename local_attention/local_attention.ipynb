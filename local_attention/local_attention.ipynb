{
 "cells": [
  {
   "cell_type": "code",
   "execution_count": 28,
   "metadata": {},
   "outputs": [],
   "source": [
    "import math\n",
    "\n",
    "import torch\n",
    "from torch import nn, einsum\n",
    "from torch.nn import Module\n",
    "import torch.nn.functional as F\n",
    "\n",
    "import time\n",
    "from einops import rearrange, repeat, pack, unpack\n"
   ]
  },
  {
   "cell_type": "code",
   "execution_count": 29,
   "metadata": {},
   "outputs": [],
   "source": [
    "# 示例输入\n",
    "batch_size = 2\n",
    "seq_len = 5\n",
    "d_k = 4\n",
    "\n",
    "Q = torch.randn(batch_size, seq_len, d_k)\n",
    "K = torch.randn(batch_size, seq_len, d_k)\n",
    "V = torch.randn(batch_size, seq_len, d_k)"
   ]
  },
  {
   "cell_type": "code",
   "execution_count": 37,
   "metadata": {},
   "outputs": [
    {
     "name": "stdout",
     "output_type": "stream",
     "text": [
      "Time taken: 0.000192\n",
      "Padded Tensor shape: torch.Size([7, 50, 128])\n",
      "Mask shape: torch.Size([7, 50])\n"
     ]
    }
   ],
   "source": [
    "def insert_zero_rows(tensor, lengths, target_lengths):\n",
    "    assert len(lengths) == len(target_lengths), \"Lengths and target lengths must be of the same length.\"\n",
    "    \n",
    "    # 计算每个位置需要插入的零行数\n",
    "    zero_rows = [target - length for length, target in zip(lengths, target_lengths)]\n",
    "    \n",
    "    # 初始化结果列表\n",
    "    parts = []\n",
    "    mask_parts = []\n",
    "    start = 0\n",
    "    \n",
    "    for i, length in enumerate(lengths):\n",
    "        end = start + length\n",
    "        \n",
    "        # 原始张量部分\n",
    "        parts.append(tensor[:, start:end, :])\n",
    "        mask_parts.append(torch.ones(tensor.size(0), length, dtype=torch.bool, device=tensor.device))\n",
    "        \n",
    "        # 插入零行\n",
    "        if zero_rows[i] > 0:\n",
    "            zero_padding = torch.zeros(tensor.size(0), zero_rows[i], tensor.size(2), device=tensor.device)\n",
    "            mask_padding = torch.zeros(tensor.size(0), zero_rows[i], dtype=torch.bool, device=tensor.device)\n",
    "            parts.append(zero_padding)\n",
    "            mask_parts.append(mask_padding)\n",
    "        \n",
    "        start = end\n",
    "    \n",
    "    # 拼接所有部分\n",
    "    padded_tensor = torch.cat(parts, dim=1)\n",
    "    mask = torch.cat(mask_parts, dim=1)\n",
    "    \n",
    "    return padded_tensor, mask\n",
    "\n",
    "\n",
    "def round_up_to_nearest_k(lst, k):\n",
    "    return [(x + k - 1) // k * k for x in lst]\n",
    "\n",
    "# 示例输入\n",
    "tensor = torch.randn(7, 181 + 9 + 10, 128)\n",
    "lengths = [21, 9, 10]\n",
    "target_lengths = round_up_to_nearest_k(lengths, 10)\n",
    "\n",
    "# 调用函数\n",
    "start = time.time()\n",
    "padded_tensor, mask = insert_zero_rows(tensor, lengths, target_lengths)\n",
    "end = time.time()\n",
    "\n",
    "print(f\"Time taken: {end - start:.6f}\")\n",
    "print(\"Padded Tensor shape:\", padded_tensor.shape)\n",
    "print(\"Mask shape:\", mask.shape)\n",
    "\n"
   ]
  },
  {
   "cell_type": "code",
   "execution_count": 16,
   "metadata": {},
   "outputs": [
    {
     "name": "stdout",
     "output_type": "stream",
     "text": [
      "Output with padding mask: tensor([[[[0.4903, 0.3744, 0.1353, 0.0000, 0.0000],\n",
      "          [0.1181, 0.3770, 0.5049, 0.0000, 0.0000],\n",
      "          [0.0804, 0.5052, 0.4144, 0.0000, 0.0000],\n",
      "          [0.0820, 0.4937, 0.4243, 0.0000, 0.0000],\n",
      "          [0.0754, 0.6691, 0.2555, 0.0000, 0.0000]],\n",
      "\n",
      "         [[0.0193, 0.9334, 0.0473, 0.0000, 0.0000],\n",
      "          [0.1245, 0.4938, 0.3817, 0.0000, 0.0000],\n",
      "          [0.4794, 0.1304, 0.3902, 0.0000, 0.0000],\n",
      "          [0.3361, 0.4615, 0.2024, 0.0000, 0.0000],\n",
      "          [0.3814, 0.0232, 0.5954, 0.0000, 0.0000]]],\n",
      "\n",
      "\n",
      "        [[[0.4670, 0.3567, 0.0000, 0.0000, 0.1763],\n",
      "          [0.0617, 0.1968, 0.0000, 0.0000, 0.7416],\n",
      "          [0.0243, 0.1528, 0.0000, 0.0000, 0.8229],\n",
      "          [0.0832, 0.5011, 0.0000, 0.0000, 0.4158],\n",
      "          [0.0649, 0.5762, 0.0000, 0.0000, 0.3589]],\n",
      "\n",
      "         [[0.0186, 0.8987, 0.0000, 0.0000, 0.0827],\n",
      "          [0.1487, 0.5898, 0.0000, 0.0000, 0.2615],\n",
      "          [0.5016, 0.1364, 0.0000, 0.0000, 0.3620],\n",
      "          [0.2452, 0.3366, 0.0000, 0.0000, 0.4181],\n",
      "          [0.7720, 0.0470, 0.0000, 0.0000, 0.1810]]]])\n"
     ]
    }
   ],
   "source": [
    "import torch\n",
    "import torch.nn.functional as F\n",
    "\n",
    "def self_attention(Q, K, mask=None):\n",
    "    # Q, K, V: [batch_size, seq_len, d_k]\n",
    "    d_k = Q.size(-1)\n",
    "    \n",
    "    # 计算注意力得分\n",
    "    scores = torch.matmul(Q, K.transpose(-2, -1)) / torch.sqrt(torch.tensor(d_k, dtype=torch.float32))\n",
    "    \n",
    "    # 应用掩码\n",
    "    if mask is not None:\n",
    "        scores = scores.masked_fill(mask == 0, float('-inf'))\n",
    "    \n",
    "    # 计算注意力权重\n",
    "    attn_weights = F.softmax(scores, dim=-1)\n",
    "    \n",
    "    return attn_weights\n",
    "\n",
    "# 填充掩码示例\n",
    "padding_mask = torch.tensor([[1, 1, 1, 0, 0], [1, 1, 0, 0, 1]]).unsqueeze(1).unsqueeze(2)  # [batch_size, 1, 1, seq_len]\n",
    "\n",
    "\n",
    "# 应用填充掩码\n",
    "attn_weights = self_attention(Q, K, mask=padding_mask)\n",
    "print(\"Output with padding mask:\", attn_weights)\n"
   ]
  }
 ],
 "metadata": {
  "kernelspec": {
   "display_name": "gearnet",
   "language": "python",
   "name": "python3"
  },
  "language_info": {
   "codemirror_mode": {
    "name": "ipython",
    "version": 3
   },
   "file_extension": ".py",
   "mimetype": "text/x-python",
   "name": "python",
   "nbconvert_exporter": "python",
   "pygments_lexer": "ipython3",
   "version": "3.8.19"
  }
 },
 "nbformat": 4,
 "nbformat_minor": 2
}
